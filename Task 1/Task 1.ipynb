{
 "cells": [
  {
   "cell_type": "markdown",
   "metadata": {},
   "source": [
    "# Data preprocessing"
   ]
  },
  {
   "cell_type": "code",
   "execution_count": 1,
   "metadata": {
    "collapsed": true
   },
   "outputs": [],
   "source": [
    "#Some preparation\n",
    "import pandas as pd\n",
    "import numpy as np\n",
    "from data_preprocessing import *\n",
    "from prediction_algorithm import *\n",
    "#Load the data\n",
    "df = load_data('database\\score_data_set.csv')"
   ]
  },
  {
   "cell_type": "code",
   "execution_count": 2,
   "metadata": {},
   "outputs": [
    {
     "name": "stdout",
     "output_type": "stream",
     "text": [
      "Shape of the original data:  (2000, 20)\n",
      "Shape of the processed data:  (1969, 20)\n"
     ]
    }
   ],
   "source": [
    "#Check the shape of data\n",
    "print('Shape of the original data: ', df.shape)\n",
    "\n",
    "#Try to remove missing rows\n",
    "df = remove_missing_value(df)\n",
    "print('Shape of the processed data: ', df.shape)"
   ]
  },
  {
   "cell_type": "markdown",
   "metadata": {},
   "source": [
    "=> After removing the missing rows, we got 1969 row left, that means the number of missing data is quite small.\n",
    "So, we can use this way to handle missing data.\n"
   ]
  },
  {
   "cell_type": "markdown",
   "metadata": {},
   "source": [
    "# I. Examine some of the correlation between these variables. \n",
    "## Hypothesis: The values on answers.0/1/2/3/4.answer reflect the evaluation results for the answer.\n",
    "=> Hence, We only examine some important numeric variables: total_time_in_second,pass_test, answers.0/1/2/3/4.answer.\n"
   ]
  },
  {
   "cell_type": "code",
   "execution_count": 3,
   "metadata": {},
   "outputs": [
    {
     "data": {
      "image/png": "[encoded data removed]",
      "text/plain": [
       "<matplotlib.figure.Figure at 0x121f158bc18>"
      ]
     },
     "metadata": {},
     "output_type": "display_data"
    },
    {
     "data": {
      "text/html": [
       "<div>\n",
       "<style>\n",
       "    .dataframe thead tr:only-child th {\n",
       "        text-align: right;\n",
       "    }\n",
       "\n",
       "    .dataframe thead th {\n",
       "        text-align: left;\n",
       "    }\n",
       "\n",
       "    .dataframe tbody tr th {\n",
       "        vertical-align: top;\n",
       "    }\n",
       "</style>\n",
       "<table border=\"1\" class=\"dataframe\">\n",
       "  <thead>\n",
       "    <tr style=\"text-align: right;\">\n",
       "      <th></th>\n",
       "      <th>total_time_in_second</th>\n",
       "      <th>answers.0.answer</th>\n",
       "      <th>answers.1.answer</th>\n",
       "      <th>answers.2.answer</th>\n",
       "      <th>answers.3.answer</th>\n",
       "      <th>answers.4.answer</th>\n",
       "      <th>pass_test</th>\n",
       "    </tr>\n",
       "  </thead>\n",
       "  <tbody>\n",
       "    <tr>\n",
       "      <th>total_time_in_second</th>\n",
       "      <td>1.000000</td>\n",
       "      <td>-0.120255</td>\n",
       "      <td>0.014657</td>\n",
       "      <td>-0.080141</td>\n",
       "      <td>-0.029101</td>\n",
       "      <td>0.016201</td>\n",
       "      <td>-0.127719</td>\n",
       "    </tr>\n",
       "    <tr>\n",
       "      <th>answers.0.answer</th>\n",
       "      <td>-0.120255</td>\n",
       "      <td>1.000000</td>\n",
       "      <td>-0.014738</td>\n",
       "      <td>0.163782</td>\n",
       "      <td>0.405196</td>\n",
       "      <td>0.358256</td>\n",
       "      <td>0.162530</td>\n",
       "    </tr>\n",
       "    <tr>\n",
       "      <th>answers.1.answer</th>\n",
       "      <td>0.014657</td>\n",
       "      <td>-0.014738</td>\n",
       "      <td>1.000000</td>\n",
       "      <td>-0.196267</td>\n",
       "      <td>-0.207265</td>\n",
       "      <td>-0.362838</td>\n",
       "      <td>0.125053</td>\n",
       "    </tr>\n",
       "    <tr>\n",
       "      <th>answers.2.answer</th>\n",
       "      <td>-0.080141</td>\n",
       "      <td>0.163782</td>\n",
       "      <td>-0.196267</td>\n",
       "      <td>1.000000</td>\n",
       "      <td>0.135362</td>\n",
       "      <td>-0.016663</td>\n",
       "      <td>0.189693</td>\n",
       "    </tr>\n",
       "    <tr>\n",
       "      <th>answers.3.answer</th>\n",
       "      <td>-0.029101</td>\n",
       "      <td>0.405196</td>\n",
       "      <td>-0.207265</td>\n",
       "      <td>0.135362</td>\n",
       "      <td>1.000000</td>\n",
       "      <td>0.421947</td>\n",
       "      <td>0.152612</td>\n",
       "    </tr>\n",
       "    <tr>\n",
       "      <th>answers.4.answer</th>\n",
       "      <td>0.016201</td>\n",
       "      <td>0.358256</td>\n",
       "      <td>-0.362838</td>\n",
       "      <td>-0.016663</td>\n",
       "      <td>0.421947</td>\n",
       "      <td>1.000000</td>\n",
       "      <td>0.093245</td>\n",
       "    </tr>\n",
       "    <tr>\n",
       "      <th>pass_test</th>\n",
       "      <td>-0.127719</td>\n",
       "      <td>0.162530</td>\n",
       "      <td>0.125053</td>\n",
       "      <td>0.189693</td>\n",
       "      <td>0.152612</td>\n",
       "      <td>0.093245</td>\n",
       "      <td>1.000000</td>\n",
       "    </tr>\n",
       "  </tbody>\n",
       "</table>\n",
       "</div>"
      ],
      "text/plain": [
       "                      total_time_in_second  answers.0.answer  \\\n",
       "total_time_in_second              1.000000         -0.120255   \n",
       "answers.0.answer                 -0.120255          1.000000   \n",
       "answers.1.answer                  0.014657         -0.014738   \n",
       "answers.2.answer                 -0.080141          0.163782   \n",
       "answers.3.answer                 -0.029101          0.405196   \n",
       "answers.4.answer                  0.016201          0.358256   \n",
       "pass_test                        -0.127719          0.162530   \n",
       "\n",
       "                      answers.1.answer  answers.2.answer  answers.3.answer  \\\n",
       "total_time_in_second          0.014657         -0.080141         -0.029101   \n",
       "answers.0.answer             -0.014738          0.163782          0.405196   \n",
       "answers.1.answer              1.000000         -0.196267         -0.207265   \n",
       "answers.2.answer             -0.196267          1.000000          0.135362   \n",
       "answers.3.answer             -0.207265          0.135362          1.000000   \n",
       "answers.4.answer             -0.362838         -0.016663          0.421947   \n",
       "pass_test                     0.125053          0.189693          0.152612   \n",
       "\n",
       "                      answers.4.answer  pass_test  \n",
       "total_time_in_second          0.016201  -0.127719  \n",
       "answers.0.answer              0.358256   0.162530  \n",
       "answers.1.answer             -0.362838   0.125053  \n",
       "answers.2.answer             -0.016663   0.189693  \n",
       "answers.3.answer              0.421947   0.152612  \n",
       "answers.4.answer              1.000000   0.093245  \n",
       "pass_test                     0.093245   1.000000  "
      ]
     },
     "execution_count": 3,
     "metadata": {},
     "output_type": "execute_result"
    }
   ],
   "source": [
    "#Create a new dataset for correlation computing:\n",
    "new_df_corr = df[['total_time_in_second','answers.0.answer', 'answers.1.answer',\n",
    "                  'answers.2.answer', 'answers.3.answer', 'answers.4.answer','pass_test']]\n",
    "#Calculate and visulize the correlation result:\n",
    "corr(new_df_corr)\n",
    "new_df_corr.corr()"
   ]
  },
  {
   "cell_type": "markdown",
   "metadata": {},
   "source": [
    "# Some conclusion from the correlation table:\n",
    "## 1. Candidates have a slightly similar result between question 0, 3 and 4.\n",
    "## 2. Pass test does not depends on any single question result or total time.\n",
    "=> Not many information could be seen here, if we want to predict pass test, a machine learning algorithm is necessary.\n",
    "If you want me to perform more variables' correlation, it is ok. But I don't think it will be a good ideal. it is often not useful when we try to find some knowledge hidden in single variables.\n"
   ]
  },
  {
   "cell_type": "markdown",
   "metadata": {},
   "source": [
    "# II. Build up a model to predict the Pass/Fail of the student and then give out the conclusion \n",
    "We have only nearly 2k datas to build the model. Hence, to avoid overfitting I only choose of the important features of the machine learning algorithm.\n",
    "## Note: Choosing features step based on the hypothesis that the values on answers. 0/1/2/3/4 .answer reflect the evaluation results for the answer."
   ]
  },
  {
   "cell_type": "code",
   "execution_count": 4,
   "metadata": {
    "collapsed": true
   },
   "outputs": [],
   "source": [
    "#Choose some important features:\n",
    "data =  df[['test_id','objective','total_time_in_second','pass_test','answers.0.answer', 'answers.1.answer',\n",
    "                  'answers.2.answer', 'answers.3.answer', 'answers.4.answer']]"
   ]
  },
  {
   "cell_type": "code",
   "execution_count": 5,
   "metadata": {
    "collapsed": true
   },
   "outputs": [],
   "source": [
    "#Divide the data set into 2 set: Training set (70%) and test set (30%)\n",
    "#X will be the predicting model and y will be the test result.\n",
    "X_train, X_test, y_train, y_test = prepare_data(data)"
   ]
  },
  {
   "cell_type": "code",
   "execution_count": 6,
   "metadata": {},
   "outputs": [
    {
     "name": "stdout",
     "output_type": "stream",
     "text": [
      "Test score on training set:\n",
      "f1 score:  0.999029126214\n",
      "Accuracy score: 0.99854862119\n",
      "Test score on test set: \n",
      "f1 score:  0.967126193001\n",
      "Accuracy score: 0.947546531303\n"
     ]
    }
   ],
   "source": [
    "#Build the model based on decision tree algorithm:\n",
    "model = prediction_model(X_train, y_train)\n",
    "\n",
    "# Test score on training set:\n",
    "print('Test score on training set:')\n",
    "prediction_result(model, X_train, y_train)\n",
    "\n",
    "#Test score on test set:\n",
    "print('Test score on test set: ')\n",
    "prediction_result(model, X_test, y_test)"
   ]
  },
  {
   "cell_type": "markdown",
   "metadata": {},
   "source": [
    "# Conclusion:\n",
    "## 1. The accuracy score on test data is highly acceptable (~94%). It also means my hypothesis could be true.\n",
    "## 2. The difference between test score on training data and test data is roughly 5%, which is caused by a little overfitting due to the shortage of data.\n",
    "## 3. To be honest, we can slightly increase a bit of the test score on test data by some tricks. However, it does not really matter and  may cause some risks when applying the model to the real data because we only test on 30% of 2k datas (600 samples), extremely  few to conclude something.\n",
    "=> If you want me to carefully explain about my using machine learning algorithm, just tell me."
   ]
  }
 ],
 "metadata": {
  "kernelspec": {
   "display_name": "Python 3",
   "language": "python",
   "name": "python3"
  },
  "language_info": {
   "codemirror_mode": {
    "name": "ipython",
    "version": 3
   },
   "file_extension": ".py",
   "mimetype": "text/x-python",
   "name": "python",
   "nbconvert_exporter": "python",
   "pygments_lexer": "ipython3",
   "version": "3.6.1"
  }
 },
 "nbformat": 4,
 "nbformat_minor": 2
}
